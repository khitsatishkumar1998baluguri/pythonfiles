{
 "cells": [
  {
   "cell_type": "markdown",
   "metadata": {},
   "source": [
    "# given number is palindrome or not"
   ]
  },
  {
   "cell_type": "code",
   "execution_count": 29,
   "metadata": {},
   "outputs": [
    {
     "name": "stdout",
     "output_type": "stream",
     "text": [
      "enter a valueradar\n",
      "palindrome\n"
     ]
    }
   ],
   "source": [
    "l=(input(\"enter a value\"))\n",
    "l[::-1]\n",
    "if l==l[::-1]:\n",
    "             print(\"palindrome\")\n",
    "else:\n",
    "      print(\"not palindrome\" )\n",
    "            \n",
    "      \n",
    "   \n",
    "    \n",
    "\n",
    "   "
   ]
  },
  {
   "cell_type": "markdown",
   "metadata": {},
   "source": [
    "# print given number is special"
   ]
  },
  {
   "cell_type": "code",
   "execution_count": 53,
   "metadata": {},
   "outputs": [
    {
     "name": "stdout",
     "output_type": "stream",
     "text": [
      "enter number7846578346\n",
      "7846578346 not special\n"
     ]
    }
   ],
   "source": [
    "a=int(input(\"enter number\"))\n",
    "if a<=9:\n",
    "    print(\"enter a valid number\")\n",
    "else:\n",
    "    b=a%10\n",
    "    c=a//10\n",
    "    s=b+c\n",
    "    p=b*c\n",
    "    d=s+p\n",
    "    if a==d:\n",
    "         print(a,\"special\")\n",
    "    else:\n",
    "        print(a,\"not special\")\n",
    "        \n",
    "   "
   ]
  },
  {
   "cell_type": "markdown",
   "metadata": {},
   "source": [
    "# print given number is perfect"
   ]
  },
  {
   "cell_type": "code",
   "execution_count": 52,
   "metadata": {},
   "outputs": [
    {
     "name": "stdout",
     "output_type": "stream",
     "text": [
      "enter a value5\n",
      "5 not prefect\n"
     ]
    }
   ],
   "source": [
    "a=int(input(\"enter a value\"))\n",
    "s=0\n",
    "for i in range(1,a):\n",
    "    if (a%i==0):\n",
    "        s=s+i\n",
    "if (s==a):\n",
    "    print(a,\"perfect\")\n",
    "else:\n",
    "    print(a,\"not prefect\")\n",
    "         \n",
    "           \n",
    "    \n",
    "         \n",
    "    \n",
    "        \n",
    "\n",
    "       "
   ]
  },
  {
   "cell_type": "markdown",
   "metadata": {},
   "source": [
    "# print prime numbers in a given range\n"
   ]
  },
  {
   "cell_type": "code",
   "execution_count": 65,
   "metadata": {},
   "outputs": [
    {
     "name": "stdout",
     "output_type": "stream",
     "text": [
      "enter1\n",
      "enter10\n",
      "2\n",
      "3\n",
      "5\n",
      "7\n"
     ]
    }
   ],
   "source": [
    "a=int(input(\"enter\"))\n",
    "b=int(input(\"enter\"))\n",
    "s=0\n",
    "def findfactor(n,s):\n",
    "    for i in range (1,n):\n",
    "        if n%i==0:\n",
    "             s=s+i\n",
    "    if s==1:\n",
    "         print(n)\n",
    "        \n",
    "           \n",
    "for k in range(a,b+1):\n",
    "    findfactor(k,s)\n",
    "    \n",
    "\n",
    "    \n",
    "                \n",
    "            \n",
    "       \n",
    "    "
   ]
  },
  {
   "cell_type": "code",
   "execution_count": null,
   "metadata": {},
   "outputs": [],
   "source": []
  }
 ],
 "metadata": {
  "kernelspec": {
   "display_name": "Python 3",
   "language": "python",
   "name": "python3"
  },
  "language_info": {
   "codemirror_mode": {
    "name": "ipython",
    "version": 3
   },
   "file_extension": ".py",
   "mimetype": "text/x-python",
   "name": "python",
   "nbconvert_exporter": "python",
   "pygments_lexer": "ipython3",
   "version": "3.7.3"
  }
 },
 "nbformat": 4,
 "nbformat_minor": 2
}
